{
 "cells": [
  {
   "cell_type": "code",
   "execution_count": 6,
   "metadata": {},
   "outputs": [],
   "source": [
    "import pandas as pd\n",
    "import matplotlib.pyplot as plt\n",
    "import pyodbc\n",
    "import os\n",
    "from dotenv import load_dotenv"
   ]
  },
  {
   "cell_type": "code",
   "execution_count": 10,
   "metadata": {},
   "outputs": [],
   "source": [
    "query = 'SELECT * FROM Hechos.Contenido'"
   ]
  },
  {
   "cell_type": "code",
   "execution_count": 17,
   "metadata": {},
   "outputs": [
    {
     "name": "stdout",
     "output_type": "stream",
     "text": [
      "  show_id     type                 title         director  \\\n",
      "0      s1    Movie  Dick Johnson Is Dead  Kirsten Johnson   \n",
      "1     s10    Movie          The Starling   Theodore Melfi   \n",
      "2    s100  TV Show          On the Verge             None   \n",
      "3   s1000    Movie              Stowaway        Joe Penna   \n",
      "4   s1001    Movie              Wild Dog  Ahishor Solomon   \n",
      "\n",
      "                                                cast                 country  \\\n",
      "0                                               None           United States   \n",
      "1  Melissa McCarthy, Chris O'Dowd, Kevin Kline, T...           United States   \n",
      "2  Julie Delpy, Elisabeth Shue, Sarah Jones, Alex...   France, United States   \n",
      "3  Anna Kendrick, Toni Collette, Daniel Dae Kim, ...  Germany, United States   \n",
      "4  Nagarjuna Akkineni, Dia Mirza, Saiyami Kher, A...                    None   \n",
      "\n",
      "  date_added  release_year rating  duration    Type1  \\\n",
      "0 2021-09-25        2020.0  PG-13      90.0  Minutes   \n",
      "1 2021-09-24        2021.0  PG-13     104.0  Minutes   \n",
      "2 2021-09-07        2021.0  TV-MA       1.0   Season   \n",
      "3 2021-04-22        2021.0  TV-MA     116.0  Minutes   \n",
      "4 2021-04-22        2020.0  TV-MA     126.0  Minutes   \n",
      "\n",
      "                                         description  \\\n",
      "0  As her father nears the end of his life, filmm...   \n",
      "1  A woman adjusting to life after a loss contend...   \n",
      "2  Four women — a chef, a single mom, an heiress ...   \n",
      "3  A three-person crew on a mission to Mars faces...   \n",
      "4  A brash but brilliant Indian intelligence agen...   \n",
      "\n",
      "                                   Category  \n",
      "0                             Documentaries  \n",
      "1                          Comedies, Dramas  \n",
      "2                    TV Comedies, TV Dramas  \n",
      "3   Dramas, International Movies, Thrillers  \n",
      "4  Action & Adventure, International Movies  \n"
     ]
    },
    {
     "name": "stderr",
     "output_type": "stream",
     "text": [
      "C:\\Users\\ASUS\\AppData\\Local\\Temp\\ipykernel_12404\\2590241799.py:16: UserWarning: pandas only supports SQLAlchemy connectable (engine/connection) or database string URI or sqlite3 DBAPI2 connection. Other DBAPI2 objects are not tested. Please consider using SQLAlchemy.\n",
      "  df = pd.read_sql(query, conn)\n"
     ]
    }
   ],
   "source": [
    "# Parámetros de conexión\n",
    "load_dotenv()\n",
    "\n",
    "server = 'DESKTOP-SQTH3VF'  # O la dirección IP\n",
    "database = 'Netflix'\n",
    "username = os.getenv('SQL_SERVER_USER')\n",
    "password = os.getenv('SQL_SERVER_PASSWORD')\n",
    "\n",
    "# Crear la cadena de conexión\n",
    "conn_str = f'DRIVER={{SQL Server}};SERVER={server};DATABASE={database};UID={username};PWD={password}'\n",
    "\n",
    "# Conectar a la base de datos\n",
    "conn = pyodbc.connect(conn_str)\n",
    "\n",
    "# Leer datos\n",
    "df = pd.read_sql(query, conn)\n",
    "\n",
    "# Ver los primeros datos\n",
    "print(df.head(5))\n",
    "\n",
    "# Cerrar la conexión\n",
    "conn.close()\n"
   ]
  },
  {
   "cell_type": "markdown",
   "metadata": {},
   "source": [
    "# Pregunta a responder"
   ]
  },
  {
   "cell_type": "markdown",
   "metadata": {},
   "source": [
    "## ¿A disminuido la duración de las peliculas a lo largo de los años?"
   ]
  },
  {
   "cell_type": "code",
   "execution_count": 18,
   "metadata": {},
   "outputs": [
    {
     "data": {
      "text/html": [
       "<div>\n",
       "<style scoped>\n",
       "    .dataframe tbody tr th:only-of-type {\n",
       "        vertical-align: middle;\n",
       "    }\n",
       "\n",
       "    .dataframe tbody tr th {\n",
       "        vertical-align: top;\n",
       "    }\n",
       "\n",
       "    .dataframe thead th {\n",
       "        text-align: right;\n",
       "    }\n",
       "</style>\n",
       "<table border=\"1\" class=\"dataframe\">\n",
       "  <thead>\n",
       "    <tr style=\"text-align: right;\">\n",
       "      <th></th>\n",
       "      <th>show_id</th>\n",
       "      <th>type</th>\n",
       "      <th>title</th>\n",
       "      <th>director</th>\n",
       "      <th>cast</th>\n",
       "      <th>country</th>\n",
       "      <th>date_added</th>\n",
       "      <th>release_year</th>\n",
       "      <th>rating</th>\n",
       "      <th>duration</th>\n",
       "      <th>Type1</th>\n",
       "      <th>description</th>\n",
       "      <th>Category</th>\n",
       "    </tr>\n",
       "  </thead>\n",
       "  <tbody>\n",
       "    <tr>\n",
       "      <th>0</th>\n",
       "      <td>s1</td>\n",
       "      <td>Movie</td>\n",
       "      <td>Dick Johnson Is Dead</td>\n",
       "      <td>Kirsten Johnson</td>\n",
       "      <td>None</td>\n",
       "      <td>United States</td>\n",
       "      <td>2021-09-25</td>\n",
       "      <td>2020.0</td>\n",
       "      <td>PG-13</td>\n",
       "      <td>90.0</td>\n",
       "      <td>Minutes</td>\n",
       "      <td>As her father nears the end of his life, filmm...</td>\n",
       "      <td>Documentaries</td>\n",
       "    </tr>\n",
       "    <tr>\n",
       "      <th>1</th>\n",
       "      <td>s10</td>\n",
       "      <td>Movie</td>\n",
       "      <td>The Starling</td>\n",
       "      <td>Theodore Melfi</td>\n",
       "      <td>Melissa McCarthy, Chris O'Dowd, Kevin Kline, T...</td>\n",
       "      <td>United States</td>\n",
       "      <td>2021-09-24</td>\n",
       "      <td>2021.0</td>\n",
       "      <td>PG-13</td>\n",
       "      <td>104.0</td>\n",
       "      <td>Minutes</td>\n",
       "      <td>A woman adjusting to life after a loss contend...</td>\n",
       "      <td>Comedies, Dramas</td>\n",
       "    </tr>\n",
       "    <tr>\n",
       "      <th>2</th>\n",
       "      <td>s100</td>\n",
       "      <td>TV Show</td>\n",
       "      <td>On the Verge</td>\n",
       "      <td>None</td>\n",
       "      <td>Julie Delpy, Elisabeth Shue, Sarah Jones, Alex...</td>\n",
       "      <td>France, United States</td>\n",
       "      <td>2021-09-07</td>\n",
       "      <td>2021.0</td>\n",
       "      <td>TV-MA</td>\n",
       "      <td>1.0</td>\n",
       "      <td>Season</td>\n",
       "      <td>Four women — a chef, a single mom, an heiress ...</td>\n",
       "      <td>TV Comedies, TV Dramas</td>\n",
       "    </tr>\n",
       "  </tbody>\n",
       "</table>\n",
       "</div>"
      ],
      "text/plain": [
       "  show_id     type                 title         director  \\\n",
       "0      s1    Movie  Dick Johnson Is Dead  Kirsten Johnson   \n",
       "1     s10    Movie          The Starling   Theodore Melfi   \n",
       "2    s100  TV Show          On the Verge             None   \n",
       "\n",
       "                                                cast                country  \\\n",
       "0                                               None          United States   \n",
       "1  Melissa McCarthy, Chris O'Dowd, Kevin Kline, T...          United States   \n",
       "2  Julie Delpy, Elisabeth Shue, Sarah Jones, Alex...  France, United States   \n",
       "\n",
       "  date_added  release_year rating  duration    Type1  \\\n",
       "0 2021-09-25        2020.0  PG-13      90.0  Minutes   \n",
       "1 2021-09-24        2021.0  PG-13     104.0  Minutes   \n",
       "2 2021-09-07        2021.0  TV-MA       1.0   Season   \n",
       "\n",
       "                                         description                Category  \n",
       "0  As her father nears the end of his life, filmm...           Documentaries  \n",
       "1  A woman adjusting to life after a loss contend...        Comedies, Dramas  \n",
       "2  Four women — a chef, a single mom, an heiress ...  TV Comedies, TV Dramas  "
      ]
     },
     "execution_count": 18,
     "metadata": {},
     "output_type": "execute_result"
    }
   ],
   "source": [
    "df.head(3)"
   ]
  },
  {
   "cell_type": "code",
   "execution_count": 19,
   "metadata": {},
   "outputs": [
    {
     "data": {
      "text/plain": [
       "(8806, 13)"
      ]
     },
     "execution_count": 19,
     "metadata": {},
     "output_type": "execute_result"
    }
   ],
   "source": [
    "df.shape"
   ]
  },
  {
   "cell_type": "markdown",
   "metadata": {},
   "source": [
    "# Filtrado y limpieza de Datos"
   ]
  },
  {
   "cell_type": "code",
   "execution_count": 20,
   "metadata": {},
   "outputs": [
    {
     "data": {
      "text/plain": [
       "(6130, 13)"
      ]
     },
     "execution_count": 20,
     "metadata": {},
     "output_type": "execute_result"
    }
   ],
   "source": [
    "# Tomar solo Peliculas\n",
    "\n",
    "movies = df['type'] == 'Movie'\n",
    "\n",
    "df_filtered = df[movies]\n",
    "df_filtered.shape"
   ]
  },
  {
   "cell_type": "code",
   "execution_count": 22,
   "metadata": {},
   "outputs": [
    {
     "data": {
      "text/html": [
       "<div>\n",
       "<style scoped>\n",
       "    .dataframe tbody tr th:only-of-type {\n",
       "        vertical-align: middle;\n",
       "    }\n",
       "\n",
       "    .dataframe tbody tr th {\n",
       "        vertical-align: top;\n",
       "    }\n",
       "\n",
       "    .dataframe thead th {\n",
       "        text-align: right;\n",
       "    }\n",
       "</style>\n",
       "<table border=\"1\" class=\"dataframe\">\n",
       "  <thead>\n",
       "    <tr style=\"text-align: right;\">\n",
       "      <th></th>\n",
       "      <th>title</th>\n",
       "      <th>country</th>\n",
       "      <th>Category</th>\n",
       "      <th>release_year</th>\n",
       "      <th>duration</th>\n",
       "    </tr>\n",
       "  </thead>\n",
       "  <tbody>\n",
       "    <tr>\n",
       "      <th>0</th>\n",
       "      <td>Dick Johnson Is Dead</td>\n",
       "      <td>United States</td>\n",
       "      <td>Documentaries</td>\n",
       "      <td>2020.0</td>\n",
       "      <td>90.0</td>\n",
       "    </tr>\n",
       "    <tr>\n",
       "      <th>1</th>\n",
       "      <td>The Starling</td>\n",
       "      <td>United States</td>\n",
       "      <td>Comedies, Dramas</td>\n",
       "      <td>2021.0</td>\n",
       "      <td>104.0</td>\n",
       "    </tr>\n",
       "    <tr>\n",
       "      <th>3</th>\n",
       "      <td>Stowaway</td>\n",
       "      <td>Germany, United States</td>\n",
       "      <td>Dramas, International Movies, Thrillers</td>\n",
       "      <td>2021.0</td>\n",
       "      <td>116.0</td>\n",
       "    </tr>\n",
       "  </tbody>\n",
       "</table>\n",
       "</div>"
      ],
      "text/plain": [
       "                  title                 country  \\\n",
       "0  Dick Johnson Is Dead           United States   \n",
       "1          The Starling           United States   \n",
       "3              Stowaway  Germany, United States   \n",
       "\n",
       "                                  Category  release_year  duration  \n",
       "0                            Documentaries        2020.0      90.0  \n",
       "1                         Comedies, Dramas        2021.0     104.0  \n",
       "3  Dramas, International Movies, Thrillers        2021.0     116.0  "
      ]
     },
     "execution_count": 22,
     "metadata": {},
     "output_type": "execute_result"
    }
   ],
   "source": [
    "# Selección de columnas de interes\n",
    "\n",
    "df_filtered = df_filtered[['title', 'country', 'Category', 'release_year', 'duration']]\n",
    "\n",
    "df_filtered.head(3)"
   ]
  },
  {
   "cell_type": "code",
   "execution_count": 26,
   "metadata": {},
   "outputs": [
    {
     "data": {
      "text/plain": [
       "title            object\n",
       "country          object\n",
       "Category         object\n",
       "release_year    float64\n",
       "duration        float64\n",
       "dtype: object"
      ]
     },
     "execution_count": 26,
     "metadata": {},
     "output_type": "execute_result"
    }
   ],
   "source": [
    "df_filtered.dtypes"
   ]
  },
  {
   "cell_type": "code",
   "execution_count": 27,
   "metadata": {},
   "outputs": [
    {
     "data": {
      "text/plain": [
       "0                                          Documentaries\n",
       "1                                       Comedies, Dramas\n",
       "3                Dramas, International Movies, Thrillers\n",
       "4               Action & Adventure, International Movies\n",
       "6                         Comedies, International Movies\n",
       "9                     Children & Family Movies, Comedies\n",
       "12                              Children & Family Movies\n",
       "18                                             Thrillers\n",
       "20                                                Dramas\n",
       "21     Action & Adventure, Comedies, International Mo...\n",
       "22                          Dramas, International Movies\n",
       "23      Comedies, International Movies, Music & Musicals\n",
       "24                          Documentaries, Sports Movies\n",
       "25        Dramas, International Movies, Music & Musicals\n",
       "26                   Documentaries, International Movies\n",
       "27                  Comedies, Dramas, Independent Movies\n",
       "29      Dramas, Independent Movies, International Movies\n",
       "30     Children & Family Movies, Comedies, Music & Mu...\n",
       "33      Horror Movies, Romantic Movies, Sci-Fi & Fantasy\n",
       "34                                              Comedies\n",
       "37            Children & Family Movies, Comedies, Dramas\n",
       "38         Dramas, International Movies, Romantic Movies\n",
       "40      Action & Adventure, Dramas, International Movies\n",
       "43                  Action & Adventure, Sci-Fi & Fantasy\n",
       "44                Comedies, Dramas, International Movies\n",
       "47                       Documentaries, Music & Musicals\n",
       "49     Action & Adventure, Anime Features, Horror Movies\n",
       "59            Dramas, International Movies, LGBTQ Movies\n",
       "61                            Dramas, Independent Movies\n",
       "63     Documentaries, International Movies, Music & M...\n",
       "64                 Cult Movies, Dramas, Music & Musicals\n",
       "68                  Action & Adventure, Comedies, Dramas\n",
       "82            Children & Family Movies, Music & Musicals\n",
       "90                      Children & Family Movies, Dramas\n",
       "92     Action & Adventure, Anime Features, Internatio...\n",
       "99         Comedies, Horror Movies, International Movies\n",
       "100                         Action & Adventure, Comedies\n",
       "115                             Horror Movies, Thrillers\n",
       "116    Children & Family Movies, Comedies, Sci-Fi & F...\n",
       "121                                   Action & Adventure\n",
       "122    Dramas, Faith & Spirituality, International Mo...\n",
       "123                      International Movies, Thrillers\n",
       "125      Comedies, International Movies, Romantic Movies\n",
       "127                            Comedies, Romantic Movies\n",
       "131        Comedies, International Movies, Sports Movies\n",
       "136                    Action & Adventure, Horror Movies\n",
       "143                     Classic Movies, Music & Musicals\n",
       "155    Action & Adventure, International Movies, Musi...\n",
       "166    Documentaries, International Movies, Sports Mo...\n",
       "176    Children & Family Movies, Faith & Spirituality...\n",
       "Name: Category, dtype: object"
      ]
     },
     "execution_count": 27,
     "metadata": {},
     "output_type": "execute_result"
    }
   ],
   "source": [
    "categories = df_filtered['Category'].drop_duplicates()\n",
    "categories.head(50)"
   ]
  },
  {
   "cell_type": "markdown",
   "metadata": {},
   "source": [
    "### Limpiar categorías"
   ]
  },
  {
   "cell_type": "code",
   "execution_count": 28,
   "metadata": {},
   "outputs": [
    {
     "name": "stderr",
     "output_type": "stream",
     "text": [
      "C:\\Users\\ASUS\\AppData\\Local\\Temp\\ipykernel_12404\\971408635.py:1: SettingWithCopyWarning: \n",
      "A value is trying to be set on a copy of a slice from a DataFrame.\n",
      "Try using .loc[row_indexer,col_indexer] = value instead\n",
      "\n",
      "See the caveats in the documentation: https://pandas.pydata.org/pandas-docs/stable/user_guide/indexing.html#returning-a-view-versus-a-copy\n",
      "  df_filtered['Category'] = df_filtered['Category'].apply(lambda x: x.split(',')[0].strip())\n"
     ]
    },
    {
     "data": {
      "text/html": [
       "<div>\n",
       "<style scoped>\n",
       "    .dataframe tbody tr th:only-of-type {\n",
       "        vertical-align: middle;\n",
       "    }\n",
       "\n",
       "    .dataframe tbody tr th {\n",
       "        vertical-align: top;\n",
       "    }\n",
       "\n",
       "    .dataframe thead th {\n",
       "        text-align: right;\n",
       "    }\n",
       "</style>\n",
       "<table border=\"1\" class=\"dataframe\">\n",
       "  <thead>\n",
       "    <tr style=\"text-align: right;\">\n",
       "      <th></th>\n",
       "      <th>title</th>\n",
       "      <th>country</th>\n",
       "      <th>Category</th>\n",
       "      <th>release_year</th>\n",
       "      <th>duration</th>\n",
       "    </tr>\n",
       "  </thead>\n",
       "  <tbody>\n",
       "    <tr>\n",
       "      <th>0</th>\n",
       "      <td>Dick Johnson Is Dead</td>\n",
       "      <td>United States</td>\n",
       "      <td>Documentaries</td>\n",
       "      <td>2020.0</td>\n",
       "      <td>90.0</td>\n",
       "    </tr>\n",
       "    <tr>\n",
       "      <th>1</th>\n",
       "      <td>The Starling</td>\n",
       "      <td>United States</td>\n",
       "      <td>Comedies</td>\n",
       "      <td>2021.0</td>\n",
       "      <td>104.0</td>\n",
       "    </tr>\n",
       "    <tr>\n",
       "      <th>3</th>\n",
       "      <td>Stowaway</td>\n",
       "      <td>Germany, United States</td>\n",
       "      <td>Dramas</td>\n",
       "      <td>2021.0</td>\n",
       "      <td>116.0</td>\n",
       "    </tr>\n",
       "    <tr>\n",
       "      <th>4</th>\n",
       "      <td>Wild Dog</td>\n",
       "      <td>None</td>\n",
       "      <td>Action &amp; Adventure</td>\n",
       "      <td>2020.0</td>\n",
       "      <td>126.0</td>\n",
       "    </tr>\n",
       "    <tr>\n",
       "      <th>5</th>\n",
       "      <td>Oloibiri</td>\n",
       "      <td>Canada, Nigeria, United States</td>\n",
       "      <td>Dramas</td>\n",
       "      <td>2015.0</td>\n",
       "      <td>86.0</td>\n",
       "    </tr>\n",
       "  </tbody>\n",
       "</table>\n",
       "</div>"
      ],
      "text/plain": [
       "                  title                         country            Category  \\\n",
       "0  Dick Johnson Is Dead                   United States       Documentaries   \n",
       "1          The Starling                   United States            Comedies   \n",
       "3              Stowaway          Germany, United States              Dramas   \n",
       "4              Wild Dog                            None  Action & Adventure   \n",
       "5              Oloibiri  Canada, Nigeria, United States              Dramas   \n",
       "\n",
       "   release_year  duration  \n",
       "0        2020.0      90.0  \n",
       "1        2021.0     104.0  \n",
       "3        2021.0     116.0  \n",
       "4        2020.0     126.0  \n",
       "5        2015.0      86.0  "
      ]
     },
     "execution_count": 28,
     "metadata": {},
     "output_type": "execute_result"
    }
   ],
   "source": [
    "df_filtered['Category'] = df_filtered['Category'].apply(lambda x: x.split(',')[0].strip())\n",
    "\n",
    "# Muestra las primeras 3 filas para verificar los cambios\n",
    "df_filtered.head(5)"
   ]
  }
 ],
 "metadata": {
  "kernelspec": {
   "display_name": "Python 3",
   "language": "python",
   "name": "python3"
  },
  "language_info": {
   "codemirror_mode": {
    "name": "ipython",
    "version": 3
   },
   "file_extension": ".py",
   "mimetype": "text/x-python",
   "name": "python",
   "nbconvert_exporter": "python",
   "pygments_lexer": "ipython3",
   "version": "3.11.0"
  }
 },
 "nbformat": 4,
 "nbformat_minor": 2
}
